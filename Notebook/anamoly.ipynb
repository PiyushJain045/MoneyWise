{
 "cells": [
  {
   "cell_type": "code",
   "execution_count": 3,
   "metadata": {},
   "outputs": [],
   "source": [
    "import pandas as pd\n",
    "import numpy as np\n",
    "from sklearn.ensemble import IsolationForest\n",
    "from sklearn.preprocessing import LabelEncoder\n",
    "import pickle\n",
    "from datetime import datetime\n",
    "\n",
    "# Load and preprocess the data\n",
    "df = pd.read_csv('dataset.csv')\n",
    "\n",
    "# Feature engineering\n",
    "df['Date'] = pd.to_datetime(df['Date'])\n",
    "df['day_of_week'] = df['Date'].dt.dayofweek\n",
    "df['day_of_month'] = df['Date'].dt.day\n",
    "df['month'] = df['Date'].dt.month\n",
    "\n",
    "# Encode categorical features\n",
    "label_encoders = {}\n",
    "categorical_cols = ['Type', 'Recipient', 'Category']\n",
    "for col in categorical_cols:\n",
    "    le = LabelEncoder()\n",
    "    df[col] = le.fit_transform(df[col].astype(str))\n",
    "    label_encoders[col] = le\n",
    "\n",
    "# Features for the model\n",
    "features = ['Balance Amount', 'Transaction_Amount', 'Type', 'day_of_week', \n",
    "            'day_of_month', 'month', 'Recipient', 'Category']\n",
    "\n",
    "# Train Isolation Forest model\n",
    "model = IsolationForest(n_estimators=100, contamination=0.05, random_state=42)\n",
    "model.fit(df[features])\n",
    "\n",
    "# Save the model and label encoders\n",
    "with open('anomaly_detection_model.pkl', 'wb') as f:\n",
    "    pickle.dump({\n",
    "        'model': model,\n",
    "        'label_encoders': label_encoders\n",
    "    }, f)"
   ]
  }
 ],
 "metadata": {
  "kernelspec": {
   "display_name": "venv",
   "language": "python",
   "name": "python3"
  },
  "language_info": {
   "codemirror_mode": {
    "name": "ipython",
    "version": 3
   },
   "file_extension": ".py",
   "mimetype": "text/x-python",
   "name": "python",
   "nbconvert_exporter": "python",
   "pygments_lexer": "ipython3",
   "version": "3.12.5"
  }
 },
 "nbformat": 4,
 "nbformat_minor": 2
}
